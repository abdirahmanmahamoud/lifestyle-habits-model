{
 "cells": [
  {
   "cell_type": "code",
   "execution_count": 2,
   "id": "1a87db8e",
   "metadata": {},
   "outputs": [],
   "source": [
    "import json\n",
    "import joblib\n",
    "import pandas as pd"
   ]
  },
  {
   "cell_type": "code",
   "execution_count": 3,
   "id": "98541821",
   "metadata": {},
   "outputs": [],
   "source": [
    "TRAIN_COLUMNS = json.load(open(\"models/train_columns.json\"))\n",
    "SCALER = joblib.load(\"models/house_scaler.pkl\") "
   ]
  },
  {
   "cell_type": "code",
   "execution_count": null,
   "id": "14dc52c3",
   "metadata": {},
   "outputs": [],
   "source": [
    "def prepare_features_from_raw(record: dict) -> pd.DataFrame:\n",
    "    age = float(record.get(\"Age\", 0))\n",
    "    sleep = float(record.get(\"SleepHours\", 0))\n",
    "    tea = float(record.get(\"TeaCoffeePerDay\", 0))\n",
    "    exercise = float(record.get(\"ExerciseDays\", 0))\n",
    "    healthy_meals = float(record.get(\"HealthyMeals\", 0))\n",
    "    meals = float(record.get(\"MealsPerDay\", 0))\n",
    "\n",
    "    meals_to_sleep = meals / sleep if sleep else 0.0\n",
    "    exercise_to_age = exercise / age if age else 0.0\n",
    "    caffeine_to_meals = tea / meals if meals else 0.0\n",
    "\n",
    "    row = {col: 0.0 for col in TRAIN_COLUMNS}\n",
    "\n",
    "    for name, val in [\n",
    "        (\"Age\", age),\n",
    "        (\"SleepHours\", sleep),\n",
    "        (\"TeaCoffeePerDay\", tea),\n",
    "        (\"ExerciseDays\", exercise),\n",
    "        (\"HealthyMeals\", healthy_meals),\n",
    "        (\"MealsPerDay\", meals),\n",
    "        (\"Meals_to_SleepRatio\", meals_to_sleep),\n",
    "        (\"Exercise_to_AgeRatio\", exercise_to_age),\n",
    "        (\"Caffeine_to_Meals\", caffeine_to_meals),\n",
    "    ]:\n",
    "        if name in row:\n",
    "            row[name] = float(val)\n",
    "\n",
    "    df_one = pd.DataFrame([row], columns=TRAIN_COLUMNS)\n",
    "\n",
    "    if hasattr(SCALER, \"feature_names_in_\"):\n",
    "        cols_to_scale = list(SCALER.feature_names_in_)\n",
    "        df_one[cols_to_scale] = SCALER.transform(df_one[cols_to_scale])\n",
    "\n",
    "    return df_one"
   ]
  },
  {
   "cell_type": "code",
   "execution_count": null,
   "id": "8c904903",
   "metadata": {},
   "outputs": [
    {
     "name": "stdout",
     "output_type": "stream",
     "text": [
      "        Age  SleepHours  TeaCoffeePerDay  ExerciseDays  HealthyMeals  \\\n",
      "0  0.197727    0.033996        -0.433706      0.512062      0.024876   \n",
      "\n",
      "   MealsPerDay  Meals_to_SleepRatio  Exercise_to_AgeRatio  Caffeine_to_Meals  \n",
      "0     1.016001             0.191102              0.248146          -0.620461  \n"
     ]
    }
   ],
   "source": [
    "new_record = {\n",
    "    \"Age\": 30,\n",
    "    \"SleepHours\": 6,\n",
    "    \"TeaCoffeePerDay\": 2,\n",
    "    \"ExerciseDays\": 3,\n",
    "    \"HealthyMeals\": 2,\n",
    "    \"MealsPerDay\": 3\n",
    "}\n",
    "\n",
    "prepared_df = prepare_features_from_raw(new_record)\n",
    "print(prepared_df)"
   ]
  }
 ],
 "metadata": {
  "kernelspec": {
   "display_name": "Python 3",
   "language": "python",
   "name": "python3"
  },
  "language_info": {
   "codemirror_mode": {
    "name": "ipython",
    "version": 3
   },
   "file_extension": ".py",
   "mimetype": "text/x-python",
   "name": "python",
   "nbconvert_exporter": "python",
   "pygments_lexer": "ipython3",
   "version": "3.13.7"
  }
 },
 "nbformat": 4,
 "nbformat_minor": 5
}
