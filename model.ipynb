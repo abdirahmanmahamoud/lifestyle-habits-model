{
 "cells": [
  {
   "cell_type": "code",
   "execution_count": 6,
   "id": "9d58b771",
   "metadata": {},
   "outputs": [],
   "source": [
    "import pandas as pd\n",
    "import numpy as np\n",
    "from sklearn.model_selection import train_test_split\n",
    "from sklearn.linear_model import LinearRegression\n",
    "from sklearn.ensemble import RandomForestRegressor\n",
    "from sklearn.metrics import mean_absolute_error, mean_squared_error, r2_score\n",
    "from sklearn.preprocessing import LabelEncoder, StandardScaler\n",
    "import joblib\n",
    "import json\n",
    "import os"
   ]
  },
  {
   "cell_type": "code",
   "execution_count": 7,
   "id": "88a5e581",
   "metadata": {},
   "outputs": [
    {
     "name": "stdout",
     "output_type": "stream",
     "text": [
      "   Age  SleepHours  TeaCoffeePerDay  ExerciseDays  HealthyMeals  MealsPerDay  \\\n",
      "0   22           5                2             7             1            2   \n",
      "1   15           8                0             0             0            3   \n",
      "2   18           4                3             1             0            3   \n",
      "3   65           8                2             0             3            3   \n",
      "4   14           7                0             1             1            3   \n",
      "\n",
      "  HealthStatus  \n",
      "0      Average  \n",
      "1      Average  \n",
      "2         Poor  \n",
      "3         Good  \n",
      "4      Average  \n"
     ]
    }
   ],
   "source": [
    "df = pd.read_csv('./dataset/data.csv')\n",
    "print(df.head())"
   ]
  },
  {
   "cell_type": "code",
   "execution_count": 8,
   "id": "dcddfd2a",
   "metadata": {},
   "outputs": [
    {
     "name": "stdout",
     "output_type": "stream",
     "text": [
      "Data after preprocessing:\n",
      "        Age  SleepHours  TeaCoffeePerDay  ExerciseDays  HealthyMeals  \\\n",
      "0 -0.692044   -0.501443        -0.433706      2.438029     -0.497519   \n",
      "1 -1.470593    1.104873        -1.359927     -0.932412     -1.019913   \n",
      "2 -1.136929   -1.036881         0.029404     -0.450921     -1.019913   \n",
      "3  4.090474    1.104873        -0.433706     -0.932412      0.547270   \n",
      "4 -1.581815    0.569435        -1.359927     -0.450921     -0.497519   \n",
      "\n",
      "   MealsPerDay HealthStatus  Meals_to_SleepRatio  Exercise_to_AgeRatio  \\\n",
      "0    -0.984251      Average            -0.361427              2.643260   \n",
      "1     1.016001      Average            -0.499559             -0.849615   \n",
      "2     1.016001         Poor             1.572425             -0.239748   \n",
      "3     1.016001         Good            -0.499559             -0.849615   \n",
      "4     1.016001      Average            -0.203562             -0.065500   \n",
      "\n",
      "   Caffeine_to_Meals  \n",
      "0          -0.260193  \n",
      "1          -1.340997  \n",
      "2          -0.260193  \n",
      "3          -0.620461  \n",
      "4          -1.340997  \n"
     ]
    }
   ],
   "source": [
    "df[\"HealthStatus\"] = df[\"HealthStatus\"].str.strip()\n",
    "df[\"Age\"] = df[\"Age\"].fillna(df[\"Age\"].median())\n",
    "df[\"SleepHours\"] = df[\"SleepHours\"].fillna(df[\"SleepHours\"].median())\n",
    "df[\"TeaCoffeePerDay\"] = df[\"TeaCoffeePerDay\"].fillna(0)\n",
    "df[\"ExerciseDays\"] = df[\"ExerciseDays\"].fillna(0)\n",
    "df[\"HealthyMeals\"] = df[\"HealthyMeals\"].fillna(df[\"HealthyMeals\"].median())\n",
    "df[\"MealsPerDay\"] = df[\"MealsPerDay\"].fillna(df[\"MealsPerDay\"].mode()[0])\n",
    "df[\"HealthStatus\"] = df[\"HealthStatus\"].fillna(\"Average\")\n",
    "df = df.drop_duplicates()\n",
    "df = df.dropna()\n",
    "\n",
    "df[\"Meals_to_SleepRatio\"] = np.where(\n",
    "    df[\"SleepHours\"] > 0, \n",
    "    df[\"MealsPerDay\"] / df[\"SleepHours\"], \n",
    "    0\n",
    ")\n",
    "df[\"Exercise_to_AgeRatio\"] = np.where(\n",
    "    df[\"Age\"] > 0, \n",
    "    df[\"ExerciseDays\"] / df[\"Age\"], \n",
    "    0\n",
    ")\n",
    "df[\"Caffeine_to_Meals\"] = np.where(\n",
    "    df[\"MealsPerDay\"] > 0, \n",
    "    df[\"TeaCoffeePerDay\"] / df[\"MealsPerDay\"], \n",
    "    0\n",
    ")\n",
    "\n",
    "numeric_cols = df.select_dtypes(include=[\"int64\", \"float64\"]).columns.tolist()\n",
    "num_features_to_scale = [c for c in numeric_cols]\n",
    "\n",
    "scaler = StandardScaler()\n",
    "df[num_features_to_scale] = scaler.fit_transform(df[num_features_to_scale])\n",
    "\n",
    "os.makedirs(\"models\", exist_ok=True)\n",
    "\n",
    "joblib.dump(scaler, \"models/health_scaler.pkl\")\n",
    "TRAIN_COLUMNS = df.drop(columns=[\"HealthStatus\"]).columns.tolist()\n",
    "json.dump(TRAIN_COLUMNS, open(\"models/train_columns.json\", \"w\"))\n",
    "\n",
    "print(df.head())"
   ]
  },
  {
   "cell_type": "code",
   "execution_count": 19,
   "id": "b04b76d8",
   "metadata": {},
   "outputs": [],
   "source": [
    "X = df.drop(columns=[\"HealthStatus\"])\n",
    "y = df[\"HealthStatus\"]\n",
    "\n",
    "le = LabelEncoder()\n",
    "y_encoded = le.fit_transform(y)\n",
    "\n",
    "joblib.dump(le, \"models/label_encoder.joblib\")\n",
    "\n",
    "X_train, X_test, y_train, y_test = train_test_split(\n",
    "    X, y_encoded, test_size=0.2, random_state=42\n",
    ")\n",
    "\n",
    "lr = LinearRegression()\n",
    "lr.fit(X_train, y_train)\n",
    "lr_pred = lr.predict(X_test)\n",
    "\n",
    "rf = RandomForestRegressor(random_state=42)\n",
    "rf.fit(X_train, y_train)\n",
    "rf_pred = rf.predict(X_test)"
   ]
  },
  {
   "cell_type": "code",
   "execution_count": 10,
   "id": "8075a6de",
   "metadata": {},
   "outputs": [
    {
     "name": "stdout",
     "output_type": "stream",
     "text": [
      "\n",
      "Linear Regression Performance:\n",
      "  R²   : 0.188\n",
      "  MAE  : 0.667\n",
      "  MSE  : 0.519\n",
      "  RMSE : 0.720\n",
      "\n",
      "Random Forest Performance:\n",
      "  R²   : 0.354\n",
      "  MAE  : 0.478\n",
      "  MSE  : 0.413\n",
      "  RMSE : 0.642\n"
     ]
    }
   ],
   "source": [
    "def print_metrics(name, y_true, y_pred):\n",
    "    r2 = r2_score(y_true, y_pred)\n",
    "    mae = mean_absolute_error(y_true, y_pred)\n",
    "    mse = mean_squared_error(y_true, y_pred)\n",
    "    rmse = np.sqrt(mse)\n",
    "    print(f\"\\n{name} Performance:\")\n",
    "    print(f\"  R²   : {r2:.3f}\")\n",
    "    print(f\"  MAE  : {mae:,.3f}\")\n",
    "    print(f\"  MSE  : {mse:,.3f}\")\n",
    "    print(f\"  RMSE : {rmse:,.3f}\")\n",
    "\n",
    "print_metrics(\"Linear Regression\", y_test, lr_pred)\n",
    "print_metrics(\"Random Forest\", y_test, rf_pred)"
   ]
  },
  {
   "cell_type": "code",
   "execution_count": 18,
   "id": "a1d9e531",
   "metadata": {},
   "outputs": [
    {
     "name": "stdout",
     "output_type": "stream",
     "text": [
      "\n",
      "Single-row sanity check:\n",
      "  Actual Value: 1 (Good)\n",
      "  LR Pred     : 0.59\n",
      "  RF Pred     : 0.31\n"
     ]
    },
    {
     "data": {
      "text/plain": [
       "['models/rf_model.joblib']"
      ]
     },
     "execution_count": 18,
     "metadata": {},
     "output_type": "execute_result"
    }
   ],
   "source": [
    "i = 4\n",
    "x_one_df = X_test.iloc[[i]]\n",
    "y_true = y_test[i]\n",
    "p_lr_one = float(lr.predict(x_one_df)[0])\n",
    "p_rf_one = float(rf.predict(x_one_df)[0])\n",
    "\n",
    "print(\"\\nSingle-row sanity check:\")\n",
    "print(f\"  Actual Value: {y_true} ({le.inverse_transform([y_true])[0]})\")\n",
    "print(f\"  LR Pred     : {p_lr_one:.2f}\")\n",
    "print(f\"  RF Pred     : {p_rf_one:.2f}\")\n",
    "\n",
    "joblib.dump(lr, \"models/lr_model.joblib\")\n",
    "joblib.dump(rf, \"models/rf_model.joblib\")"
   ]
  },
  {
   "cell_type": "code",
   "execution_count": null,
   "id": "6c17948a",
   "metadata": {},
   "outputs": [],
   "source": []
  }
 ],
 "metadata": {
  "kernelspec": {
   "display_name": "Python 3",
   "language": "python",
   "name": "python3"
  },
  "language_info": {
   "codemirror_mode": {
    "name": "ipython",
    "version": 3
   },
   "file_extension": ".py",
   "mimetype": "text/x-python",
   "name": "python",
   "nbconvert_exporter": "python",
   "pygments_lexer": "ipython3",
   "version": "3.13.7"
  }
 },
 "nbformat": 4,
 "nbformat_minor": 5
}
